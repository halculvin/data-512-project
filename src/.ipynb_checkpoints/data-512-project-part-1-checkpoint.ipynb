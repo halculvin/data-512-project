{
 "cells": [
  {
   "cell_type": "markdown",
   "id": "35e8148f",
   "metadata": {},
   "source": [
    "# Covid -19 Interrupted Time Series Analysis\n",
    "\n",
    "The purpose of this notebook is to analyze the effect of masking policies and the compliance of these policies amomg the population at Franklin in Ohio in United States during COVID-19 for the time spaen between February 1, 2020 through October 1, 2021. The data sets used for this analysis are curated from the below mentioned links.\n",
    "1. [John Hopkins University COVID-19 data](https://www.kaggle.com/datasets/antgoldbloom/covid19-data-from-john-hopkins-university)\n",
    "2. [masking mandates by county](https://data.cdc.gov/Policy-Surveillance/U-S-State-and-Territorial-Public-Mask-Mandates-Fro/62d6-pm5i)\n",
    "3. [mask compliance survey](https://github.com/nytimes/covid-19-data/tree/master/mask-use)"
   ]
  },
  {
   "cell_type": "markdown",
   "id": "5fb10dbf",
   "metadata": {},
   "source": [
    "# Import the Packages"
   ]
  },
  {
   "cell_type": "code",
   "execution_count": 1,
   "id": "5ca8c7d9",
   "metadata": {},
   "outputs": [],
   "source": [
    "import pandas as pd\n",
    "import numpy as np\n",
    "import matplotlib.pyplot as plt\n",
    "import scipy.stats\n",
    "import pylab\n",
    "from datetime import datetime, timedelta\n",
    "import statsmodels.api as sm\n",
    "import statsmodels.formula.api as smf\n",
    "import math\n",
    "import warnings\n",
    "warnings.simplefilter(\"ignore\", UserWarning)\n",
    "from statsmodels.tsa.arima.model import ARIMA"
   ]
  },
  {
   "cell_type": "markdown",
   "id": "f5566050",
   "metadata": {},
   "source": [
    "## Step 1 :Data Acquisition - collecting data from the above mentioned links"
   ]
  },
  {
   "cell_type": "code",
   "execution_count": 2,
   "id": "f9810ce2",
   "metadata": {},
   "outputs": [],
   "source": [
    "raw_csv_data = pd.read_csv(\"../data/RAW_us_confirmed_cases.csv\")\n",
    "df_comp_snohomish = raw_csv_data[raw_csv_data['Admin2'] == 'Snohomish']\n",
    "\n",
    "raw_csv_public_mask_mandate = pd.read_csv(\"../data/U.S._State_and_Territorial_Public_Mask_Mandates_From_April_10__2020_through_August_15__2021_by_County_by_Day.csv\")\n",
    "df_mask_snohomish = raw_csv_public_mask_mandate[raw_csv_public_mask_mandate['County_Name'] == 'Snohomish County']\n"
   ]
  },
  {
   "cell_type": "code",
   "execution_count": 3,
   "id": "7ca03034",
   "metadata": {},
   "outputs": [
    {
     "data": {
      "text/plain": [
       "Index(['Province_State', 'Admin2', 'UID', 'iso2', 'iso3', 'code3', 'FIPS',\n",
       "       'Country_Region', 'Lat', 'Long_',\n",
       "       ...\n",
       "       '10/21/22', '10/22/22', '10/23/22', '10/24/22', '10/25/22', '10/26/22',\n",
       "       '10/27/22', '10/28/22', '10/29/22', '10/30/22'],\n",
       "      dtype='object', length=1024)"
      ]
     },
     "execution_count": 3,
     "metadata": {},
     "output_type": "execute_result"
    }
   ],
   "source": [
    "df_comp_snohomish.columns"
   ]
  },
  {
   "cell_type": "markdown",
   "id": "c50aa445",
   "metadata": {},
   "source": [
    "\n",
    "# Simplifying the dataset"
   ]
  },
  {
   "cell_type": "code",
   "execution_count": 4,
   "id": "22a8f768",
   "metadata": {},
   "outputs": [
    {
     "data": {
      "text/html": [
       "<div>\n",
       "<style scoped>\n",
       "    .dataframe tbody tr th:only-of-type {\n",
       "        vertical-align: middle;\n",
       "    }\n",
       "\n",
       "    .dataframe tbody tr th {\n",
       "        vertical-align: top;\n",
       "    }\n",
       "\n",
       "    .dataframe thead th {\n",
       "        text-align: right;\n",
       "    }\n",
       "</style>\n",
       "<table border=\"1\" class=\"dataframe\">\n",
       "  <thead>\n",
       "    <tr style=\"text-align: right;\">\n",
       "      <th></th>\n",
       "      <th>1/22/20</th>\n",
       "      <th>1/23/20</th>\n",
       "      <th>1/24/20</th>\n",
       "      <th>1/25/20</th>\n",
       "      <th>1/26/20</th>\n",
       "      <th>1/27/20</th>\n",
       "      <th>1/28/20</th>\n",
       "      <th>1/29/20</th>\n",
       "      <th>1/30/20</th>\n",
       "      <th>1/31/20</th>\n",
       "      <th>...</th>\n",
       "      <th>10/21/22</th>\n",
       "      <th>10/22/22</th>\n",
       "      <th>10/23/22</th>\n",
       "      <th>10/24/22</th>\n",
       "      <th>10/25/22</th>\n",
       "      <th>10/26/22</th>\n",
       "      <th>10/27/22</th>\n",
       "      <th>10/28/22</th>\n",
       "      <th>10/29/22</th>\n",
       "      <th>10/30/22</th>\n",
       "    </tr>\n",
       "  </thead>\n",
       "  <tbody>\n",
       "    <tr>\n",
       "      <th>3176</th>\n",
       "      <td>0</td>\n",
       "      <td>0</td>\n",
       "      <td>0</td>\n",
       "      <td>0</td>\n",
       "      <td>0</td>\n",
       "      <td>0</td>\n",
       "      <td>0</td>\n",
       "      <td>0</td>\n",
       "      <td>0</td>\n",
       "      <td>0</td>\n",
       "      <td>...</td>\n",
       "      <td>193751</td>\n",
       "      <td>193751</td>\n",
       "      <td>193751</td>\n",
       "      <td>193911</td>\n",
       "      <td>193911</td>\n",
       "      <td>194059</td>\n",
       "      <td>194059</td>\n",
       "      <td>194059</td>\n",
       "      <td>194059</td>\n",
       "      <td>194059</td>\n",
       "    </tr>\n",
       "  </tbody>\n",
       "</table>\n",
       "<p>1 rows × 1013 columns</p>\n",
       "</div>"
      ],
      "text/plain": [
       "      1/22/20  1/23/20  1/24/20  1/25/20  1/26/20  1/27/20  1/28/20  1/29/20  \\\n",
       "3176        0        0        0        0        0        0        0        0   \n",
       "\n",
       "      1/30/20  1/31/20  ...  10/21/22  10/22/22  10/23/22  10/24/22  10/25/22  \\\n",
       "3176        0        0  ...    193751    193751    193751    193911    193911   \n",
       "\n",
       "      10/26/22  10/27/22  10/28/22  10/29/22  10/30/22  \n",
       "3176    194059    194059    194059    194059    194059  \n",
       "\n",
       "[1 rows x 1013 columns]"
      ]
     },
     "execution_count": 4,
     "metadata": {},
     "output_type": "execute_result"
    }
   ],
   "source": [
    "df_comp = df_comp_snohomish.drop(['Province_State', 'Admin2', 'UID', 'iso2', 'iso3', 'code3', 'FIPS', 'Country_Region', 'Lat', 'Long_', 'Combined_Key'], axis=1)\n",
    "df_comp.head()"
   ]
  },
  {
   "cell_type": "code",
   "execution_count": 5,
   "id": "4f20af51",
   "metadata": {},
   "outputs": [],
   "source": [
    "df_snohomish = df_comp.melt(id_vars=[], \n",
    "        var_name=\"date\", \n",
    "        value_name=\"infections\")"
   ]
  },
  {
   "cell_type": "code",
   "execution_count": 6,
   "id": "cfde9d1e",
   "metadata": {},
   "outputs": [
    {
     "data": {
      "text/html": [
       "<div>\n",
       "<style scoped>\n",
       "    .dataframe tbody tr th:only-of-type {\n",
       "        vertical-align: middle;\n",
       "    }\n",
       "\n",
       "    .dataframe tbody tr th {\n",
       "        vertical-align: top;\n",
       "    }\n",
       "\n",
       "    .dataframe thead th {\n",
       "        text-align: right;\n",
       "    }\n",
       "</style>\n",
       "<table border=\"1\" class=\"dataframe\">\n",
       "  <thead>\n",
       "    <tr style=\"text-align: right;\">\n",
       "      <th></th>\n",
       "      <th>date</th>\n",
       "      <th>infections</th>\n",
       "    </tr>\n",
       "  </thead>\n",
       "  <tbody>\n",
       "    <tr>\n",
       "      <th>0</th>\n",
       "      <td>1/22/20</td>\n",
       "      <td>0</td>\n",
       "    </tr>\n",
       "    <tr>\n",
       "      <th>1</th>\n",
       "      <td>1/23/20</td>\n",
       "      <td>0</td>\n",
       "    </tr>\n",
       "    <tr>\n",
       "      <th>2</th>\n",
       "      <td>1/24/20</td>\n",
       "      <td>0</td>\n",
       "    </tr>\n",
       "    <tr>\n",
       "      <th>3</th>\n",
       "      <td>1/25/20</td>\n",
       "      <td>0</td>\n",
       "    </tr>\n",
       "    <tr>\n",
       "      <th>4</th>\n",
       "      <td>1/26/20</td>\n",
       "      <td>0</td>\n",
       "    </tr>\n",
       "  </tbody>\n",
       "</table>\n",
       "</div>"
      ],
      "text/plain": [
       "      date  infections\n",
       "0  1/22/20           0\n",
       "1  1/23/20           0\n",
       "2  1/24/20           0\n",
       "3  1/25/20           0\n",
       "4  1/26/20           0"
      ]
     },
     "execution_count": 6,
     "metadata": {},
     "output_type": "execute_result"
    }
   ],
   "source": [
    "df_snohomish.head()"
   ]
  },
  {
   "cell_type": "code",
   "execution_count": 7,
   "id": "e138089d",
   "metadata": {},
   "outputs": [
    {
     "data": {
      "text/html": [
       "<div>\n",
       "<style scoped>\n",
       "    .dataframe tbody tr th:only-of-type {\n",
       "        vertical-align: middle;\n",
       "    }\n",
       "\n",
       "    .dataframe tbody tr th {\n",
       "        vertical-align: top;\n",
       "    }\n",
       "\n",
       "    .dataframe thead th {\n",
       "        text-align: right;\n",
       "    }\n",
       "</style>\n",
       "<table border=\"1\" class=\"dataframe\">\n",
       "  <thead>\n",
       "    <tr style=\"text-align: right;\">\n",
       "      <th></th>\n",
       "      <th>infections</th>\n",
       "    </tr>\n",
       "  </thead>\n",
       "  <tbody>\n",
       "    <tr>\n",
       "      <th>count</th>\n",
       "      <td>1013.000000</td>\n",
       "    </tr>\n",
       "    <tr>\n",
       "      <th>mean</th>\n",
       "      <td>67177.082922</td>\n",
       "    </tr>\n",
       "    <tr>\n",
       "      <th>std</th>\n",
       "      <td>67132.254762</td>\n",
       "    </tr>\n",
       "    <tr>\n",
       "      <th>min</th>\n",
       "      <td>0.000000</td>\n",
       "    </tr>\n",
       "    <tr>\n",
       "      <th>25%</th>\n",
       "      <td>7201.000000</td>\n",
       "    </tr>\n",
       "    <tr>\n",
       "      <th>50%</th>\n",
       "      <td>39459.000000</td>\n",
       "    </tr>\n",
       "    <tr>\n",
       "      <th>75%</th>\n",
       "      <td>146313.000000</td>\n",
       "    </tr>\n",
       "    <tr>\n",
       "      <th>max</th>\n",
       "      <td>194059.000000</td>\n",
       "    </tr>\n",
       "  </tbody>\n",
       "</table>\n",
       "</div>"
      ],
      "text/plain": [
       "          infections\n",
       "count    1013.000000\n",
       "mean    67177.082922\n",
       "std     67132.254762\n",
       "min         0.000000\n",
       "25%      7201.000000\n",
       "50%     39459.000000\n",
       "75%    146313.000000\n",
       "max    194059.000000"
      ]
     },
     "execution_count": 7,
     "metadata": {},
     "output_type": "execute_result"
    }
   ],
   "source": [
    "df_snohomish.describe()"
   ]
  },
  {
   "cell_type": "code",
   "execution_count": 8,
   "id": "62c4c2d9",
   "metadata": {},
   "outputs": [
    {
     "data": {
      "text/plain": [
       "0"
      ]
     },
     "execution_count": 8,
     "metadata": {},
     "output_type": "execute_result"
    }
   ],
   "source": [
    "df_snohomish.infections.isna().sum()"
   ]
  },
  {
   "cell_type": "code",
   "execution_count": 9,
   "id": "0769f8c2",
   "metadata": {},
   "outputs": [
    {
     "data": {
      "text/html": [
       "<div>\n",
       "<style scoped>\n",
       "    .dataframe tbody tr th:only-of-type {\n",
       "        vertical-align: middle;\n",
       "    }\n",
       "\n",
       "    .dataframe tbody tr th {\n",
       "        vertical-align: top;\n",
       "    }\n",
       "\n",
       "    .dataframe thead th {\n",
       "        text-align: right;\n",
       "    }\n",
       "</style>\n",
       "<table border=\"1\" class=\"dataframe\">\n",
       "  <thead>\n",
       "    <tr style=\"text-align: right;\">\n",
       "      <th></th>\n",
       "      <th>date</th>\n",
       "      <th>infections</th>\n",
       "    </tr>\n",
       "  </thead>\n",
       "  <tbody>\n",
       "    <tr>\n",
       "      <th>0</th>\n",
       "      <td>1/22/20</td>\n",
       "      <td>0</td>\n",
       "    </tr>\n",
       "    <tr>\n",
       "      <th>1</th>\n",
       "      <td>1/23/20</td>\n",
       "      <td>0</td>\n",
       "    </tr>\n",
       "    <tr>\n",
       "      <th>2</th>\n",
       "      <td>1/24/20</td>\n",
       "      <td>0</td>\n",
       "    </tr>\n",
       "    <tr>\n",
       "      <th>3</th>\n",
       "      <td>1/25/20</td>\n",
       "      <td>0</td>\n",
       "    </tr>\n",
       "    <tr>\n",
       "      <th>4</th>\n",
       "      <td>1/26/20</td>\n",
       "      <td>0</td>\n",
       "    </tr>\n",
       "  </tbody>\n",
       "</table>\n",
       "</div>"
      ],
      "text/plain": [
       "      date  infections\n",
       "0  1/22/20           0\n",
       "1  1/23/20           0\n",
       "2  1/24/20           0\n",
       "3  1/25/20           0\n",
       "4  1/26/20           0"
      ]
     },
     "execution_count": 9,
     "metadata": {},
     "output_type": "execute_result"
    }
   ],
   "source": [
    "# Convert date column which is text to proper date format. \n",
    "# df_snohomish['date'] = pd.to_datetime(df_snohomish['date'], dayfirst=True)\n",
    "#df_snohomish.set_index(\"date\", inplace=True)\n",
    "df_snohomish.head()"
   ]
  },
  {
   "cell_type": "code",
   "execution_count": 10,
   "id": "7c597745",
   "metadata": {},
   "outputs": [
    {
     "data": {
      "text/plain": [
       "Index(['State_Tribe_Territory', 'County_Name', 'FIPS_State', 'FIPS_County',\n",
       "       'date', 'order_code', 'Face_Masks_Required_in_Public',\n",
       "       'Source_of_Action', 'URL', 'Citation'],\n",
       "      dtype='object')"
      ]
     },
     "execution_count": 10,
     "metadata": {},
     "output_type": "execute_result"
    }
   ],
   "source": [
    "df_mask_snohomish.columns"
   ]
  },
  {
   "cell_type": "code",
   "execution_count": 11,
   "id": "89bd771a",
   "metadata": {},
   "outputs": [],
   "source": [
    "df_comp_mask = df_mask_snohomish.drop(['State_Tribe_Territory', 'County_Name', 'FIPS_State', 'FIPS_County', 'order_code', 'Source_of_Action', 'URL', 'Citation'], axis=1)"
   ]
  },
  {
   "cell_type": "code",
   "execution_count": 12,
   "id": "3e7b43e2",
   "metadata": {},
   "outputs": [
    {
     "data": {
      "text/html": [
       "<div>\n",
       "<style scoped>\n",
       "    .dataframe tbody tr th:only-of-type {\n",
       "        vertical-align: middle;\n",
       "    }\n",
       "\n",
       "    .dataframe tbody tr th {\n",
       "        vertical-align: top;\n",
       "    }\n",
       "\n",
       "    .dataframe thead th {\n",
       "        text-align: right;\n",
       "    }\n",
       "</style>\n",
       "<table border=\"1\" class=\"dataframe\">\n",
       "  <thead>\n",
       "    <tr style=\"text-align: right;\">\n",
       "      <th></th>\n",
       "      <th>date</th>\n",
       "      <th>Face_Masks_Required_in_Public</th>\n",
       "    </tr>\n",
       "  </thead>\n",
       "  <tbody>\n",
       "    <tr>\n",
       "      <th>793309</th>\n",
       "      <td>6/6/2020</td>\n",
       "      <td>NaN</td>\n",
       "    </tr>\n",
       "    <tr>\n",
       "      <th>793446</th>\n",
       "      <td>6/7/2020</td>\n",
       "      <td>NaN</td>\n",
       "    </tr>\n",
       "    <tr>\n",
       "      <th>793480</th>\n",
       "      <td>4/10/2020</td>\n",
       "      <td>NaN</td>\n",
       "    </tr>\n",
       "    <tr>\n",
       "      <th>793481</th>\n",
       "      <td>4/11/2020</td>\n",
       "      <td>NaN</td>\n",
       "    </tr>\n",
       "    <tr>\n",
       "      <th>793482</th>\n",
       "      <td>4/12/2020</td>\n",
       "      <td>NaN</td>\n",
       "    </tr>\n",
       "    <tr>\n",
       "      <th>...</th>\n",
       "      <td>...</td>\n",
       "      <td>...</td>\n",
       "    </tr>\n",
       "    <tr>\n",
       "      <th>1537447</th>\n",
       "      <td>8/11/2021</td>\n",
       "      <td>Yes</td>\n",
       "    </tr>\n",
       "    <tr>\n",
       "      <th>1537448</th>\n",
       "      <td>8/12/2021</td>\n",
       "      <td>Yes</td>\n",
       "    </tr>\n",
       "    <tr>\n",
       "      <th>1537449</th>\n",
       "      <td>8/13/2021</td>\n",
       "      <td>Yes</td>\n",
       "    </tr>\n",
       "    <tr>\n",
       "      <th>1537450</th>\n",
       "      <td>8/14/2021</td>\n",
       "      <td>Yes</td>\n",
       "    </tr>\n",
       "    <tr>\n",
       "      <th>1537451</th>\n",
       "      <td>8/15/2021</td>\n",
       "      <td>Yes</td>\n",
       "    </tr>\n",
       "  </tbody>\n",
       "</table>\n",
       "<p>493 rows × 2 columns</p>\n",
       "</div>"
      ],
      "text/plain": [
       "              date Face_Masks_Required_in_Public\n",
       "793309    6/6/2020                           NaN\n",
       "793446    6/7/2020                           NaN\n",
       "793480   4/10/2020                           NaN\n",
       "793481   4/11/2020                           NaN\n",
       "793482   4/12/2020                           NaN\n",
       "...            ...                           ...\n",
       "1537447  8/11/2021                           Yes\n",
       "1537448  8/12/2021                           Yes\n",
       "1537449  8/13/2021                           Yes\n",
       "1537450  8/14/2021                           Yes\n",
       "1537451  8/15/2021                           Yes\n",
       "\n",
       "[493 rows x 2 columns]"
      ]
     },
     "execution_count": 12,
     "metadata": {},
     "output_type": "execute_result"
    }
   ],
   "source": [
    "df_comp_mask"
   ]
  },
  {
   "cell_type": "code",
   "execution_count": 13,
   "id": "1c097eb6",
   "metadata": {},
   "outputs": [
    {
     "data": {
      "text/plain": [
       "Yes    416\n",
       "Name: Face_Masks_Required_in_Public, dtype: int64"
      ]
     },
     "execution_count": 13,
     "metadata": {},
     "output_type": "execute_result"
    }
   ],
   "source": [
    "df_comp_mask.Face_Masks_Required_in_Public.value_counts()"
   ]
  },
  {
   "cell_type": "code",
   "execution_count": 14,
   "id": "5787102d",
   "metadata": {},
   "outputs": [
    {
     "data": {
      "text/plain": [
       "Yes    416\n",
       "No      77\n",
       "Name: Face_Masks_Required_in_Public, dtype: int64"
      ]
     },
     "execution_count": 14,
     "metadata": {},
     "output_type": "execute_result"
    }
   ],
   "source": [
    "df_comp_mask.Face_Masks_Required_in_Public.fillna(\"No\", inplace = True)\n",
    "df_comp_mask.Face_Masks_Required_in_Public.value_counts()"
   ]
  },
  {
   "cell_type": "code",
   "execution_count": 15,
   "id": "6e9ce3a3",
   "metadata": {},
   "outputs": [],
   "source": [
    "df_snohomish['date'] = pd.to_datetime(df_snohomish['date'])\n",
    "df_comp_mask['date'] = pd.to_datetime(df_comp_mask['date'])"
   ]
  },
  {
   "cell_type": "code",
   "execution_count": 16,
   "id": "a1add51a",
   "metadata": {},
   "outputs": [],
   "source": [
    "\n",
    "df_combined = pd.merge_ordered(df_snohomish, df_comp_mask, how='left', on=\"date\")"
   ]
  },
  {
   "cell_type": "code",
   "execution_count": 17,
   "id": "944afae6",
   "metadata": {},
   "outputs": [
    {
     "data": {
      "text/html": [
       "<div>\n",
       "<style scoped>\n",
       "    .dataframe tbody tr th:only-of-type {\n",
       "        vertical-align: middle;\n",
       "    }\n",
       "\n",
       "    .dataframe tbody tr th {\n",
       "        vertical-align: top;\n",
       "    }\n",
       "\n",
       "    .dataframe thead th {\n",
       "        text-align: right;\n",
       "    }\n",
       "</style>\n",
       "<table border=\"1\" class=\"dataframe\">\n",
       "  <thead>\n",
       "    <tr style=\"text-align: right;\">\n",
       "      <th></th>\n",
       "      <th>date</th>\n",
       "      <th>infections</th>\n",
       "      <th>Face_Masks_Required_in_Public</th>\n",
       "    </tr>\n",
       "  </thead>\n",
       "  <tbody>\n",
       "    <tr>\n",
       "      <th>0</th>\n",
       "      <td>2020-01-22</td>\n",
       "      <td>0</td>\n",
       "      <td>NaN</td>\n",
       "    </tr>\n",
       "    <tr>\n",
       "      <th>1</th>\n",
       "      <td>2020-01-23</td>\n",
       "      <td>0</td>\n",
       "      <td>NaN</td>\n",
       "    </tr>\n",
       "    <tr>\n",
       "      <th>2</th>\n",
       "      <td>2020-01-24</td>\n",
       "      <td>0</td>\n",
       "      <td>NaN</td>\n",
       "    </tr>\n",
       "    <tr>\n",
       "      <th>3</th>\n",
       "      <td>2020-01-25</td>\n",
       "      <td>0</td>\n",
       "      <td>NaN</td>\n",
       "    </tr>\n",
       "    <tr>\n",
       "      <th>4</th>\n",
       "      <td>2020-01-26</td>\n",
       "      <td>0</td>\n",
       "      <td>NaN</td>\n",
       "    </tr>\n",
       "    <tr>\n",
       "      <th>...</th>\n",
       "      <td>...</td>\n",
       "      <td>...</td>\n",
       "      <td>...</td>\n",
       "    </tr>\n",
       "    <tr>\n",
       "      <th>1008</th>\n",
       "      <td>2022-10-26</td>\n",
       "      <td>194059</td>\n",
       "      <td>NaN</td>\n",
       "    </tr>\n",
       "    <tr>\n",
       "      <th>1009</th>\n",
       "      <td>2022-10-27</td>\n",
       "      <td>194059</td>\n",
       "      <td>NaN</td>\n",
       "    </tr>\n",
       "    <tr>\n",
       "      <th>1010</th>\n",
       "      <td>2022-10-28</td>\n",
       "      <td>194059</td>\n",
       "      <td>NaN</td>\n",
       "    </tr>\n",
       "    <tr>\n",
       "      <th>1011</th>\n",
       "      <td>2022-10-29</td>\n",
       "      <td>194059</td>\n",
       "      <td>NaN</td>\n",
       "    </tr>\n",
       "    <tr>\n",
       "      <th>1012</th>\n",
       "      <td>2022-10-30</td>\n",
       "      <td>194059</td>\n",
       "      <td>NaN</td>\n",
       "    </tr>\n",
       "  </tbody>\n",
       "</table>\n",
       "<p>1013 rows × 3 columns</p>\n",
       "</div>"
      ],
      "text/plain": [
       "           date  infections Face_Masks_Required_in_Public\n",
       "0    2020-01-22           0                           NaN\n",
       "1    2020-01-23           0                           NaN\n",
       "2    2020-01-24           0                           NaN\n",
       "3    2020-01-25           0                           NaN\n",
       "4    2020-01-26           0                           NaN\n",
       "...         ...         ...                           ...\n",
       "1008 2022-10-26      194059                           NaN\n",
       "1009 2022-10-27      194059                           NaN\n",
       "1010 2022-10-28      194059                           NaN\n",
       "1011 2022-10-29      194059                           NaN\n",
       "1012 2022-10-30      194059                           NaN\n",
       "\n",
       "[1013 rows x 3 columns]"
      ]
     },
     "execution_count": 17,
     "metadata": {},
     "output_type": "execute_result"
    }
   ],
   "source": [
    "df_combined"
   ]
  },
  {
   "cell_type": "code",
   "execution_count": 18,
   "id": "96e08b60",
   "metadata": {},
   "outputs": [
    {
     "data": {
      "text/plain": [
       "Yes    416\n",
       "No      77\n",
       "Name: Face_Masks_Required_in_Public, dtype: int64"
      ]
     },
     "execution_count": 18,
     "metadata": {},
     "output_type": "execute_result"
    }
   ],
   "source": [
    "df_combined.Face_Masks_Required_in_Public.value_counts()"
   ]
  },
  {
   "cell_type": "code",
   "execution_count": 19,
   "id": "e7897906",
   "metadata": {},
   "outputs": [
    {
     "data": {
      "text/plain": [
       "520"
      ]
     },
     "execution_count": 19,
     "metadata": {},
     "output_type": "execute_result"
    }
   ],
   "source": [
    "df_combined.Face_Masks_Required_in_Public.isna().sum()"
   ]
  },
  {
   "cell_type": "code",
   "execution_count": 20,
   "id": "d3cce804",
   "metadata": {},
   "outputs": [],
   "source": [
    "# start_date = '2020-02-01'\n",
    "# end_date   = '2021-10-01'\n",
    "\n",
    "# mask = (df_combined['date'] > start_date) & (df_combined['date'] <= end_date)\n",
    "# df_combined = df_combined.loc[mask]\n"
   ]
  },
  {
   "cell_type": "code",
   "execution_count": 21,
   "id": "b17f67bc",
   "metadata": {},
   "outputs": [
    {
     "data": {
      "text/plain": [
       "Yes    416\n",
       "No      77\n",
       "Name: Face_Masks_Required_in_Public, dtype: int64"
      ]
     },
     "execution_count": 21,
     "metadata": {},
     "output_type": "execute_result"
    }
   ],
   "source": [
    "df_combined.Face_Masks_Required_in_Public.value_counts()"
   ]
  },
  {
   "cell_type": "code",
   "execution_count": 22,
   "id": "5982fb78",
   "metadata": {},
   "outputs": [],
   "source": [
    "df_combined.Face_Masks_Required_in_Public = df_combined.Face_Masks_Required_in_Public.fillna(method = 'bfill')"
   ]
  },
  {
   "cell_type": "code",
   "execution_count": 23,
   "id": "3ecf1848",
   "metadata": {},
   "outputs": [],
   "source": [
    "df_combined.Face_Masks_Required_in_Public = df_combined.Face_Masks_Required_in_Public.fillna(method = 'ffill')"
   ]
  },
  {
   "cell_type": "code",
   "execution_count": 24,
   "id": "5b69299c",
   "metadata": {},
   "outputs": [
    {
     "data": {
      "text/plain": [
       "Yes    857\n",
       "No     156\n",
       "Name: Face_Masks_Required_in_Public, dtype: int64"
      ]
     },
     "execution_count": 24,
     "metadata": {},
     "output_type": "execute_result"
    }
   ],
   "source": [
    "df_combined.Face_Masks_Required_in_Public.value_counts()"
   ]
  },
  {
   "cell_type": "code",
   "execution_count": 25,
   "id": "8bcef663",
   "metadata": {},
   "outputs": [],
   "source": [
    "df_combined['test_date'] = df_combined['date'] - timedelta(days=3)"
   ]
  },
  {
   "cell_type": "code",
   "execution_count": 26,
   "id": "7253ea49",
   "metadata": {},
   "outputs": [],
   "source": [
    "df_combined['Face_Masks_Required_in_Public'] = df_combined['Face_Masks_Required_in_Public'].map({'Yes':1, 'No':0})"
   ]
  },
  {
   "cell_type": "code",
   "execution_count": 27,
   "id": "e5e17100",
   "metadata": {},
   "outputs": [],
   "source": [
    "df_combined['policy_day'] = df_combined['Face_Masks_Required_in_Public'].cumsum()"
   ]
  },
  {
   "cell_type": "code",
   "execution_count": 28,
   "id": "781969ab",
   "metadata": {},
   "outputs": [
    {
     "data": {
      "text/html": [
       "<div>\n",
       "<style scoped>\n",
       "    .dataframe tbody tr th:only-of-type {\n",
       "        vertical-align: middle;\n",
       "    }\n",
       "\n",
       "    .dataframe tbody tr th {\n",
       "        vertical-align: top;\n",
       "    }\n",
       "\n",
       "    .dataframe thead th {\n",
       "        text-align: right;\n",
       "    }\n",
       "</style>\n",
       "<table border=\"1\" class=\"dataframe\">\n",
       "  <thead>\n",
       "    <tr style=\"text-align: right;\">\n",
       "      <th></th>\n",
       "      <th>date</th>\n",
       "      <th>infections</th>\n",
       "      <th>Face_Masks_Required_in_Public</th>\n",
       "      <th>test_date</th>\n",
       "      <th>policy_day</th>\n",
       "      <th>days</th>\n",
       "    </tr>\n",
       "  </thead>\n",
       "  <tbody>\n",
       "    <tr>\n",
       "      <th>0</th>\n",
       "      <td>2020-01-22</td>\n",
       "      <td>0</td>\n",
       "      <td>0</td>\n",
       "      <td>2020-01-19</td>\n",
       "      <td>0</td>\n",
       "      <td>1</td>\n",
       "    </tr>\n",
       "    <tr>\n",
       "      <th>1</th>\n",
       "      <td>2020-01-23</td>\n",
       "      <td>0</td>\n",
       "      <td>0</td>\n",
       "      <td>2020-01-20</td>\n",
       "      <td>0</td>\n",
       "      <td>2</td>\n",
       "    </tr>\n",
       "    <tr>\n",
       "      <th>2</th>\n",
       "      <td>2020-01-24</td>\n",
       "      <td>0</td>\n",
       "      <td>0</td>\n",
       "      <td>2020-01-21</td>\n",
       "      <td>0</td>\n",
       "      <td>3</td>\n",
       "    </tr>\n",
       "    <tr>\n",
       "      <th>3</th>\n",
       "      <td>2020-01-25</td>\n",
       "      <td>0</td>\n",
       "      <td>0</td>\n",
       "      <td>2020-01-22</td>\n",
       "      <td>0</td>\n",
       "      <td>4</td>\n",
       "    </tr>\n",
       "    <tr>\n",
       "      <th>4</th>\n",
       "      <td>2020-01-26</td>\n",
       "      <td>0</td>\n",
       "      <td>0</td>\n",
       "      <td>2020-01-23</td>\n",
       "      <td>0</td>\n",
       "      <td>5</td>\n",
       "    </tr>\n",
       "    <tr>\n",
       "      <th>...</th>\n",
       "      <td>...</td>\n",
       "      <td>...</td>\n",
       "      <td>...</td>\n",
       "      <td>...</td>\n",
       "      <td>...</td>\n",
       "      <td>...</td>\n",
       "    </tr>\n",
       "    <tr>\n",
       "      <th>1008</th>\n",
       "      <td>2022-10-26</td>\n",
       "      <td>194059</td>\n",
       "      <td>1</td>\n",
       "      <td>2022-10-23</td>\n",
       "      <td>853</td>\n",
       "      <td>1009</td>\n",
       "    </tr>\n",
       "    <tr>\n",
       "      <th>1009</th>\n",
       "      <td>2022-10-27</td>\n",
       "      <td>194059</td>\n",
       "      <td>1</td>\n",
       "      <td>2022-10-24</td>\n",
       "      <td>854</td>\n",
       "      <td>1010</td>\n",
       "    </tr>\n",
       "    <tr>\n",
       "      <th>1010</th>\n",
       "      <td>2022-10-28</td>\n",
       "      <td>194059</td>\n",
       "      <td>1</td>\n",
       "      <td>2022-10-25</td>\n",
       "      <td>855</td>\n",
       "      <td>1011</td>\n",
       "    </tr>\n",
       "    <tr>\n",
       "      <th>1011</th>\n",
       "      <td>2022-10-29</td>\n",
       "      <td>194059</td>\n",
       "      <td>1</td>\n",
       "      <td>2022-10-26</td>\n",
       "      <td>856</td>\n",
       "      <td>1012</td>\n",
       "    </tr>\n",
       "    <tr>\n",
       "      <th>1012</th>\n",
       "      <td>2022-10-30</td>\n",
       "      <td>194059</td>\n",
       "      <td>1</td>\n",
       "      <td>2022-10-27</td>\n",
       "      <td>857</td>\n",
       "      <td>1013</td>\n",
       "    </tr>\n",
       "  </tbody>\n",
       "</table>\n",
       "<p>1013 rows × 6 columns</p>\n",
       "</div>"
      ],
      "text/plain": [
       "           date  infections  Face_Masks_Required_in_Public  test_date  \\\n",
       "0    2020-01-22           0                              0 2020-01-19   \n",
       "1    2020-01-23           0                              0 2020-01-20   \n",
       "2    2020-01-24           0                              0 2020-01-21   \n",
       "3    2020-01-25           0                              0 2020-01-22   \n",
       "4    2020-01-26           0                              0 2020-01-23   \n",
       "...         ...         ...                            ...        ...   \n",
       "1008 2022-10-26      194059                              1 2022-10-23   \n",
       "1009 2022-10-27      194059                              1 2022-10-24   \n",
       "1010 2022-10-28      194059                              1 2022-10-25   \n",
       "1011 2022-10-29      194059                              1 2022-10-26   \n",
       "1012 2022-10-30      194059                              1 2022-10-27   \n",
       "\n",
       "      policy_day  days  \n",
       "0              0     1  \n",
       "1              0     2  \n",
       "2              0     3  \n",
       "3              0     4  \n",
       "4              0     5  \n",
       "...          ...   ...  \n",
       "1008         853  1009  \n",
       "1009         854  1010  \n",
       "1010         855  1011  \n",
       "1011         856  1012  \n",
       "1012         857  1013  \n",
       "\n",
       "[1013 rows x 6 columns]"
      ]
     },
     "execution_count": 28,
     "metadata": {},
     "output_type": "execute_result"
    }
   ],
   "source": [
    "df_combined['days'] = np.arange(1,len(df_combined)+1)\n",
    "df_combined"
   ]
  },
  {
   "cell_type": "code",
   "execution_count": 29,
   "id": "5b79eec4",
   "metadata": {},
   "outputs": [],
   "source": [
    "df_combined.infections = df_combined.infections.replace({'0':np.nan, 0:np.nan})"
   ]
  },
  {
   "cell_type": "code",
   "execution_count": 30,
   "id": "f0f2bcf1",
   "metadata": {},
   "outputs": [],
   "source": [
    "df_combined.infections = df_combined.infections.fillna(method = 'bfill')"
   ]
  },
  {
   "cell_type": "code",
   "execution_count": 31,
   "id": "49595aab",
   "metadata": {},
   "outputs": [
    {
     "data": {
      "text/html": [
       "<div>\n",
       "<style scoped>\n",
       "    .dataframe tbody tr th:only-of-type {\n",
       "        vertical-align: middle;\n",
       "    }\n",
       "\n",
       "    .dataframe tbody tr th {\n",
       "        vertical-align: top;\n",
       "    }\n",
       "\n",
       "    .dataframe thead th {\n",
       "        text-align: right;\n",
       "    }\n",
       "</style>\n",
       "<table border=\"1\" class=\"dataframe\">\n",
       "  <thead>\n",
       "    <tr style=\"text-align: right;\">\n",
       "      <th></th>\n",
       "      <th>date</th>\n",
       "      <th>infections</th>\n",
       "      <th>Face_Masks_Required_in_Public</th>\n",
       "      <th>test_date</th>\n",
       "      <th>policy_day</th>\n",
       "      <th>days</th>\n",
       "    </tr>\n",
       "  </thead>\n",
       "  <tbody>\n",
       "    <tr>\n",
       "      <th>0</th>\n",
       "      <td>2020-01-22</td>\n",
       "      <td>1.0</td>\n",
       "      <td>0</td>\n",
       "      <td>2020-01-19</td>\n",
       "      <td>0</td>\n",
       "      <td>1</td>\n",
       "    </tr>\n",
       "    <tr>\n",
       "      <th>1</th>\n",
       "      <td>2020-01-23</td>\n",
       "      <td>1.0</td>\n",
       "      <td>0</td>\n",
       "      <td>2020-01-20</td>\n",
       "      <td>0</td>\n",
       "      <td>2</td>\n",
       "    </tr>\n",
       "    <tr>\n",
       "      <th>2</th>\n",
       "      <td>2020-01-24</td>\n",
       "      <td>1.0</td>\n",
       "      <td>0</td>\n",
       "      <td>2020-01-21</td>\n",
       "      <td>0</td>\n",
       "      <td>3</td>\n",
       "    </tr>\n",
       "    <tr>\n",
       "      <th>3</th>\n",
       "      <td>2020-01-25</td>\n",
       "      <td>1.0</td>\n",
       "      <td>0</td>\n",
       "      <td>2020-01-22</td>\n",
       "      <td>0</td>\n",
       "      <td>4</td>\n",
       "    </tr>\n",
       "    <tr>\n",
       "      <th>4</th>\n",
       "      <td>2020-01-26</td>\n",
       "      <td>1.0</td>\n",
       "      <td>0</td>\n",
       "      <td>2020-01-23</td>\n",
       "      <td>0</td>\n",
       "      <td>5</td>\n",
       "    </tr>\n",
       "    <tr>\n",
       "      <th>...</th>\n",
       "      <td>...</td>\n",
       "      <td>...</td>\n",
       "      <td>...</td>\n",
       "      <td>...</td>\n",
       "      <td>...</td>\n",
       "      <td>...</td>\n",
       "    </tr>\n",
       "    <tr>\n",
       "      <th>1008</th>\n",
       "      <td>2022-10-26</td>\n",
       "      <td>194059.0</td>\n",
       "      <td>1</td>\n",
       "      <td>2022-10-23</td>\n",
       "      <td>853</td>\n",
       "      <td>1009</td>\n",
       "    </tr>\n",
       "    <tr>\n",
       "      <th>1009</th>\n",
       "      <td>2022-10-27</td>\n",
       "      <td>194059.0</td>\n",
       "      <td>1</td>\n",
       "      <td>2022-10-24</td>\n",
       "      <td>854</td>\n",
       "      <td>1010</td>\n",
       "    </tr>\n",
       "    <tr>\n",
       "      <th>1010</th>\n",
       "      <td>2022-10-28</td>\n",
       "      <td>194059.0</td>\n",
       "      <td>1</td>\n",
       "      <td>2022-10-25</td>\n",
       "      <td>855</td>\n",
       "      <td>1011</td>\n",
       "    </tr>\n",
       "    <tr>\n",
       "      <th>1011</th>\n",
       "      <td>2022-10-29</td>\n",
       "      <td>194059.0</td>\n",
       "      <td>1</td>\n",
       "      <td>2022-10-26</td>\n",
       "      <td>856</td>\n",
       "      <td>1012</td>\n",
       "    </tr>\n",
       "    <tr>\n",
       "      <th>1012</th>\n",
       "      <td>2022-10-30</td>\n",
       "      <td>194059.0</td>\n",
       "      <td>1</td>\n",
       "      <td>2022-10-27</td>\n",
       "      <td>857</td>\n",
       "      <td>1013</td>\n",
       "    </tr>\n",
       "  </tbody>\n",
       "</table>\n",
       "<p>1013 rows × 6 columns</p>\n",
       "</div>"
      ],
      "text/plain": [
       "           date  infections  Face_Masks_Required_in_Public  test_date  \\\n",
       "0    2020-01-22         1.0                              0 2020-01-19   \n",
       "1    2020-01-23         1.0                              0 2020-01-20   \n",
       "2    2020-01-24         1.0                              0 2020-01-21   \n",
       "3    2020-01-25         1.0                              0 2020-01-22   \n",
       "4    2020-01-26         1.0                              0 2020-01-23   \n",
       "...         ...         ...                            ...        ...   \n",
       "1008 2022-10-26    194059.0                              1 2022-10-23   \n",
       "1009 2022-10-27    194059.0                              1 2022-10-24   \n",
       "1010 2022-10-28    194059.0                              1 2022-10-25   \n",
       "1011 2022-10-29    194059.0                              1 2022-10-26   \n",
       "1012 2022-10-30    194059.0                              1 2022-10-27   \n",
       "\n",
       "      policy_day  days  \n",
       "0              0     1  \n",
       "1              0     2  \n",
       "2              0     3  \n",
       "3              0     4  \n",
       "4              0     5  \n",
       "...          ...   ...  \n",
       "1008         853  1009  \n",
       "1009         854  1010  \n",
       "1010         855  1011  \n",
       "1011         856  1012  \n",
       "1012         857  1013  \n",
       "\n",
       "[1013 rows x 6 columns]"
      ]
     },
     "execution_count": 31,
     "metadata": {},
     "output_type": "execute_result"
    }
   ],
   "source": [
    "df_combined"
   ]
  },
  {
   "cell_type": "code",
   "execution_count": 32,
   "id": "b0ecc574",
   "metadata": {},
   "outputs": [],
   "source": [
    "df_combined = df_combined.drop(['date', 'test_date'], axis=1)"
   ]
  },
  {
   "cell_type": "code",
   "execution_count": 33,
   "id": "21811b15",
   "metadata": {},
   "outputs": [],
   "source": [
    "df_combined['infections'] = np.log2(df_combined['infections'])"
   ]
  },
  {
   "cell_type": "code",
   "execution_count": 34,
   "id": "8c4184de",
   "metadata": {},
   "outputs": [
    {
     "data": {
      "text/html": [
       "<div>\n",
       "<style scoped>\n",
       "    .dataframe tbody tr th:only-of-type {\n",
       "        vertical-align: middle;\n",
       "    }\n",
       "\n",
       "    .dataframe tbody tr th {\n",
       "        vertical-align: top;\n",
       "    }\n",
       "\n",
       "    .dataframe thead th {\n",
       "        text-align: right;\n",
       "    }\n",
       "</style>\n",
       "<table border=\"1\" class=\"dataframe\">\n",
       "  <thead>\n",
       "    <tr style=\"text-align: right;\">\n",
       "      <th></th>\n",
       "      <th>infections</th>\n",
       "      <th>Face_Masks_Required_in_Public</th>\n",
       "      <th>policy_day</th>\n",
       "      <th>days</th>\n",
       "    </tr>\n",
       "  </thead>\n",
       "  <tbody>\n",
       "    <tr>\n",
       "      <th>0</th>\n",
       "      <td>0.000000</td>\n",
       "      <td>0</td>\n",
       "      <td>0</td>\n",
       "      <td>1</td>\n",
       "    </tr>\n",
       "    <tr>\n",
       "      <th>1</th>\n",
       "      <td>0.000000</td>\n",
       "      <td>0</td>\n",
       "      <td>0</td>\n",
       "      <td>2</td>\n",
       "    </tr>\n",
       "    <tr>\n",
       "      <th>2</th>\n",
       "      <td>0.000000</td>\n",
       "      <td>0</td>\n",
       "      <td>0</td>\n",
       "      <td>3</td>\n",
       "    </tr>\n",
       "    <tr>\n",
       "      <th>3</th>\n",
       "      <td>0.000000</td>\n",
       "      <td>0</td>\n",
       "      <td>0</td>\n",
       "      <td>4</td>\n",
       "    </tr>\n",
       "    <tr>\n",
       "      <th>4</th>\n",
       "      <td>0.000000</td>\n",
       "      <td>0</td>\n",
       "      <td>0</td>\n",
       "      <td>5</td>\n",
       "    </tr>\n",
       "    <tr>\n",
       "      <th>...</th>\n",
       "      <td>...</td>\n",
       "      <td>...</td>\n",
       "      <td>...</td>\n",
       "      <td>...</td>\n",
       "    </tr>\n",
       "    <tr>\n",
       "      <th>1008</th>\n",
       "      <td>17.566136</td>\n",
       "      <td>1</td>\n",
       "      <td>853</td>\n",
       "      <td>1009</td>\n",
       "    </tr>\n",
       "    <tr>\n",
       "      <th>1009</th>\n",
       "      <td>17.566136</td>\n",
       "      <td>1</td>\n",
       "      <td>854</td>\n",
       "      <td>1010</td>\n",
       "    </tr>\n",
       "    <tr>\n",
       "      <th>1010</th>\n",
       "      <td>17.566136</td>\n",
       "      <td>1</td>\n",
       "      <td>855</td>\n",
       "      <td>1011</td>\n",
       "    </tr>\n",
       "    <tr>\n",
       "      <th>1011</th>\n",
       "      <td>17.566136</td>\n",
       "      <td>1</td>\n",
       "      <td>856</td>\n",
       "      <td>1012</td>\n",
       "    </tr>\n",
       "    <tr>\n",
       "      <th>1012</th>\n",
       "      <td>17.566136</td>\n",
       "      <td>1</td>\n",
       "      <td>857</td>\n",
       "      <td>1013</td>\n",
       "    </tr>\n",
       "  </tbody>\n",
       "</table>\n",
       "<p>1013 rows × 4 columns</p>\n",
       "</div>"
      ],
      "text/plain": [
       "      infections  Face_Masks_Required_in_Public  policy_day  days\n",
       "0       0.000000                              0           0     1\n",
       "1       0.000000                              0           0     2\n",
       "2       0.000000                              0           0     3\n",
       "3       0.000000                              0           0     4\n",
       "4       0.000000                              0           0     5\n",
       "...          ...                            ...         ...   ...\n",
       "1008   17.566136                              1         853  1009\n",
       "1009   17.566136                              1         854  1010\n",
       "1010   17.566136                              1         855  1011\n",
       "1011   17.566136                              1         856  1012\n",
       "1012   17.566136                              1         857  1013\n",
       "\n",
       "[1013 rows x 4 columns]"
      ]
     },
     "execution_count": 34,
     "metadata": {},
     "output_type": "execute_result"
    }
   ],
   "source": [
    "df_combined\n"
   ]
  },
  {
   "cell_type": "markdown",
   "id": "ca42f701",
   "metadata": {},
   "source": [
    "# Naive Solution"
   ]
  },
  {
   "cell_type": "code",
   "execution_count": 35,
   "id": "3a231681",
   "metadata": {},
   "outputs": [
    {
     "name": "stdout",
     "output_type": "stream",
     "text": [
      "                            OLS Regression Results                            \n",
      "==============================================================================\n",
      "Dep. Variable:             infections   R-squared:                       0.937\n",
      "Model:                            OLS   Adj. R-squared:                  0.937\n",
      "Method:                 Least Squares   F-statistic:                     5035.\n",
      "Date:                Thu, 03 Nov 2022   Prob (F-statistic):               0.00\n",
      "Time:                        18:26:28   Log-Likelihood:                -1375.6\n",
      "No. Observations:                1013   AIC:                             2759.\n",
      "Df Residuals:                    1009   BIC:                             2779.\n",
      "Df Model:                           3                                         \n",
      "Covariance Type:            nonrobust                                         \n",
      "=================================================================================================\n",
      "                                    coef    std err          t      P>|t|      [0.025      0.975]\n",
      "-------------------------------------------------------------------------------------------------\n",
      "Intercept                         0.1046      0.152      0.690      0.491      -0.193       0.402\n",
      "Face_Masks_Required_in_Public    -2.3364      0.163    -14.292      0.000      -2.657      -2.016\n",
      "policy_day                       -0.0892      0.002    -53.054      0.000      -0.092      -0.086\n",
      "days                              0.0958      0.002     57.139      0.000       0.092       0.099\n",
      "==============================================================================\n",
      "Omnibus:                      119.997   Durbin-Watson:                   0.012\n",
      "Prob(Omnibus):                  0.000   Jarque-Bera (JB):             1034.552\n",
      "Skew:                           0.112   Prob(JB):                    2.24e-225\n",
      "Kurtosis:                       7.946   Cond. No.                     4.77e+03\n",
      "==============================================================================\n",
      "\n",
      "Notes:\n",
      "[1] Standard Errors assume that the covariance matrix of the errors is correctly specified.\n",
      "[2] The condition number is large, 4.77e+03. This might indicate that there are\n",
      "strong multicollinearity or other numerical problems.\n"
     ]
    }
   ],
   "source": [
    "model = smf.ols(formula='infections ~ Face_Masks_Required_in_Public + policy_day + days', data=df_combined)\n",
    "res = model.fit()\n",
    "print(res.summary())"
   ]
  },
  {
   "cell_type": "code",
   "execution_count": 36,
   "id": "5663df0f",
   "metadata": {},
   "outputs": [
    {
     "data": {
      "image/png": "[encoded data removed]",
      "text/plain": [
       "<Figure size 1440x720 with 1 Axes>"
      ]
     },
     "metadata": {},
     "output_type": "display_data"
    }
   ],
   "source": [
    "start = 157\n",
    "end = 463\n",
    "beta = res.params\n",
    "\n",
    "# Get model predictions and 95% confidence interval\n",
    "predictions = res.get_prediction(df_combined)\n",
    "summary = predictions.summary_frame(alpha=0.05)\n",
    "\n",
    "# mean predictions\n",
    "y_pred = predictions.predicted_mean\n",
    "\n",
    "# countefactual assumes no interventions\n",
    "cf_df = df_combined.copy()\n",
    "cf_df[\"Face_Masks_Required_in_Public\"] = 0.0\n",
    "cf_df[\"policy_day\"] = 0.0\n",
    "\n",
    "# counter-factual predictions\n",
    "cf = res.get_prediction(cf_df).summary_frame(alpha=0.05)\n",
    "\n",
    "# Plotting\n",
    "plt.style.use('seaborn-whitegrid')\n",
    "fig, ax = plt.subplots(figsize=(20,10))\n",
    "\n",
    "# Plot infections data\n",
    "ax.scatter(df_combined[\"days\"], df_combined[\"infections\"], facecolors='none', edgecolors='steelblue', label=\"infection data\", linewidths=2)\n",
    "\n",
    "# Plot model mean infection prediction\n",
    "ax.plot(df_combined[\"days\"][:start], y_pred[:start], 'b-', label=\"model prediction\")\n",
    "ax.plot(df_combined[\"days\"][start:], y_pred[start:], 'b-')\n",
    "\n",
    "# Plot counterfactual mean infection rate with 95% confidence interval\n",
    "ax.plot(df_combined[\"days\"][start:], cf['mean'][start:], 'k.', label=\"counterfactual\")\n",
    "ax.fill_between(df_combined[\"days\"][start:], cf['mean_ci_lower'][start:], cf['mean_ci_upper'][start:], color='k', alpha=0.1, label=\"counterfactual 95% CI\");\n",
    "\n",
    "# Plot line marking intervention moment\n",
    "ax.axvline(x = 157, color = 'r', label = 'intervention start')\n",
    "\n",
    "ax.legend(loc='best')\n",
    "plt.xlabel(\"Days\")\n",
    "plt.ylabel(\"Infection rate (%)\");"
   ]
  },
  {
   "cell_type": "markdown",
   "id": "c60b716a",
   "metadata": {},
   "source": [
    "# Plotting the distribution of residuals:"
   ]
  },
  {
   "cell_type": "code",
   "execution_count": 37,
   "id": "0f7b293f",
   "metadata": {},
   "outputs": [
    {
     "data": {
      "text/plain": [
       "<AxesSubplot:ylabel='Density'>"
      ]
     },
     "execution_count": 37,
     "metadata": {},
     "output_type": "execute_result"
    },
    {
     "data": {
      "image/png": "[encoded data removed]",
      "text/plain": [
       "<Figure size 432x288 with 1 Axes>"
      ]
     },
     "metadata": {},
     "output_type": "display_data"
    }
   ],
   "source": [
    " res.resid.plot(kind=\"kde\")"
   ]
  },
  {
   "cell_type": "markdown",
   "id": "87dc3b07",
   "metadata": {},
   "source": [
    "# Autoregressive model solution\n",
    "- The autoregressive model specifies that each observation depends linearly on previous observations."
   ]
  },
  {
   "cell_type": "markdown",
   "id": "33206867",
   "metadata": {},
   "source": [
    "#### To assess how much an observation correlates with past observations it is useful to do an autocorrelation plot as shown below:"
   ]
  },
  {
   "cell_type": "code",
   "execution_count": 38,
   "id": "8ef680c8",
   "metadata": {},
   "outputs": [
    {
     "data": {
      "image/png": "[encoded data removed]",
      "text/plain": [
       "<Figure size 432x288 with 1 Axes>"
      ]
     },
     "metadata": {},
     "output_type": "display_data"
    }
   ],
   "source": [
    "sm.graphics.tsa.plot_acf(res.resid, lags=10)\n",
    "plt.xlabel(\"Lag\",fontsize = 10)\n",
    "plt.ylabel(\"Estimated autocorrelation\",fontsize = 10);\n",
    "plt.show()"
   ]
  },
  {
   "cell_type": "markdown",
   "id": "45e05cfd",
   "metadata": {},
   "source": [
    "#### Partial Autocorrelation\n",
    "-The partial autocorrelation at lag pp is the correlation that results after removing the effect of any correlations due to the terms at shorter lags."
   ]
  },
  {
   "cell_type": "code",
   "execution_count": 39,
   "id": "d128c108",
   "metadata": {},
   "outputs": [
    {
     "name": "stderr",
     "output_type": "stream",
     "text": [
      "C:\\Users\\Paa\\anaconda3\\lib\\site-packages\\statsmodels\\graphics\\tsaplots.py:348: FutureWarning: The default method 'yw' can produce PACF values outside of the [-1,1] interval. After 0.13, the default will change tounadjusted Yule-Walker ('ywm'). You can use this method now by setting method='ywm'.\n",
      "  warnings.warn(\n"
     ]
    },
    {
     "data": {
      "image/png": "[encoded data removed]",
      "text/plain": [
       "<Figure size 432x288 with 1 Axes>"
      ]
     },
     "metadata": {},
     "output_type": "display_data"
    }
   ],
   "source": [
    "sm.graphics.tsa.plot_pacf(res.resid, lags=10)\n",
    "plt.xlabel(\"Lag\",fontsize = 10)\n",
    "plt.ylabel(\"Estimated partial autocorrelation\",fontsize = 10);\n",
    "plt.show()"
   ]
  },
  {
   "cell_type": "markdown",
   "id": "c837d3f9",
   "metadata": {},
   "source": [
    "### Model selection \n",
    "- The theory states that in an autoregressive model its autocorrelation plot should depict an exponential decay and the number of lags pp should be taken from the partial autocorrelation chart using its pp most relevant lags. Applying the theory to our plots above, we conclude that our model is autoregressive of lag 1 also known as AR(1)."
   ]
  },
  {
   "cell_type": "markdown",
   "id": "742c5da2",
   "metadata": {},
   "source": [
    "### ARIMA\n",
    "In statistics ARIMA stands for autoregressive integrated moving average model and as can be inferred by the name AR models are as especial case of ARIMA therefore AR(1) is equivalent to ARIMA(1,0,0)."
   ]
  },
  {
   "cell_type": "code",
   "execution_count": 40,
   "id": "5c96dfc4",
   "metadata": {},
   "outputs": [
    {
     "name": "stdout",
     "output_type": "stream",
     "text": [
      "                               SARIMAX Results                                \n",
      "==============================================================================\n",
      "Dep. Variable:             infections   No. Observations:                 1013\n",
      "Model:                 ARIMA(1, 0, 0)   Log Likelihood                1189.495\n",
      "Date:                Thu, 03 Nov 2022   AIC                          -2366.989\n",
      "Time:                        18:26:33   BIC                          -2337.465\n",
      "Sample:                             0   HQIC                         -2355.775\n",
      "                               - 1013                                         \n",
      "Covariance Type:                  opg                                         \n",
      "=================================================================================================\n",
      "                                    coef    std err          z      P>|z|      [0.025      0.975]\n",
      "-------------------------------------------------------------------------------------------------\n",
      "const                             0.8396      0.587      1.430      0.153      -0.311       1.990\n",
      "days                              0.0772      0.005     17.026      0.000       0.068       0.086\n",
      "Face_Masks_Required_in_Public     0.0037      1.087      0.003      0.997      -2.127       2.135\n",
      "policy_day                       -0.0712      0.008     -9.372      0.000      -0.086      -0.056\n",
      "ar.L1                             0.9948      0.001    782.772      0.000       0.992       0.997\n",
      "sigma2                            0.0056   7.67e-05     72.616      0.000       0.005       0.006\n",
      "===================================================================================\n",
      "Ljung-Box (L1) (Q):                 360.87   Jarque-Bera (JB):            485453.18\n",
      "Prob(Q):                              0.00   Prob(JB):                         0.00\n",
      "Heteroskedasticity (H):               0.01   Skew:                             9.06\n",
      "Prob(H) (two-sided):                  0.00   Kurtosis:                       108.70\n",
      "===================================================================================\n",
      "\n",
      "Warnings:\n",
      "[1] Covariance matrix calculated using the outer product of gradients (complex-step).\n"
     ]
    }
   ],
   "source": [
    "arima_results = ARIMA(df_combined[\"infections\"], df_combined[[\"days\",\"Face_Masks_Required_in_Public\",\"policy_day\"]], order=(1,0,0)).fit()\n",
    "print(arima_results.summary())"
   ]
  },
  {
   "cell_type": "code",
   "execution_count": 42,
   "id": "d1950565",
   "metadata": {},
   "outputs": [
    {
     "data": {
      "image/png": "[encoded data removed]",
      "text/plain": [
       "<Figure size 1152x720 with 1 Axes>"
      ]
     },
     "metadata": {},
     "output_type": "display_data"
    }
   ],
   "source": [
    "start = 157\n",
    "end = 463\n",
    "\n",
    "predictions = arima_results.get_prediction(0, end-1)\n",
    "summary = predictions.summary_frame(alpha=0.05)\n",
    "\n",
    "arima_cf = ARIMA(df_combined[\"infections\"][:start], df_combined[\"days\"][:start], order=(1,0,0)).fit()\n",
    "\n",
    "# Model predictions means\n",
    "y_pred = predictions.predicted_mean\n",
    "\n",
    "# Counterfactual mean and 95% confidence interval\n",
    "y_cf = arima_cf.get_forecast(856, exog=df_combined[\"days\"][start:]).summary_frame(alpha=0.05)\n",
    "\n",
    "# Plot section\n",
    "plt.style.use('seaborn-whitegrid')\n",
    "fig, ax = plt.subplots(figsize=(16,10))\n",
    "\n",
    "#Plot line marking intervention moment\n",
    "ax.axvline(x = 157, color = 'r', label = 'intervention start', linewidth=2,linestyle='dotted')\n",
    "\n",
    "\n",
    "\n",
    "# Plot infection rate data\n",
    "ax.scatter(df_combined[\"days\"], df_combined[\"infections\"], facecolors='none', edgecolors='steelblue', label=\"bounce rate data\", linewidths=0.75)\n",
    "\n",
    "# Plot model mean infection prediction\n",
    "\n",
    "ax.plot(df_combined[\"days\"][:start], y_pred[:start], 'b-', label=\"model prediction\")\n",
    "#ax.plot(df_combined[\"days\"][start:], y_pred[start:], 'b-')\n",
    "\n",
    "# Plot counterfactual mean infection rate with 95% confidence interval\n",
    "ax.plot(df_combined[\"days\"][start:], y_cf[\"mean\"], 'k.', label=\"counterfactual\")\n",
    "ax.fill_between(df_combined[\"days\"][start:], y_cf['mean_ci_lower'], y_cf['mean_ci_upper'], color='k', alpha=0.1, label=\"counterfactual 95% CI\");\n",
    "\n",
    "ax.legend(loc='best')\n",
    "plt.title('The Effects of mask mandate on the rate of covid infestions in Snohomish Country, Washington')\n",
    "plt.ylim([10, 100])\n",
    "plt.xlabel(\"Days\")\n",
    "plt.ylabel(\"Infection rate\");\n"
   ]
  },
  {
   "cell_type": "markdown",
   "id": "220d21b8",
   "metadata": {},
   "source": [
    "The above figure shows the model fits before and after the intervention (mask mandate) and how it projects a counterfactual would be. On the y-axis, we have the log transformed the number of infections and on the x-axis, we have the number of days the mask policy was in place. The data for this analysis was obtained by merging the mask mandate data with the number of infections data and involved data cleansing and manipulation mentioned in the notebook with this assignment.\n",
    "The dotted red line at 157 is the day on which the mask mandate was brought in place.\n",
    "The solid blue line shows the trend for the number of infections with time. As we can see from the above graph that as the number of days increases there is an increase in the number of cases with slight variations in between.\n",
    "The black line represents the counterfactual line. This is the outcome that would have observed absent the mask wearing policy. The problem here is that, we cannot observe what\n",
    "would have happened without the necessary interventions. This solution is an estimate. This estimate could have been affected by some major threats to validity like history ( an event occurring between pre and post recording of the daily infections that is not the intervention of interest. There could also be the issue of maturation- where people are able to adopt more to the changing behaviors of the COVID-19 virus.\n",
    "A change in instrumentation and testing could have also affected the internal validity of our assumptions.\n",
    "The line in black is the counterfactual shows that the cases would have increased linearly with time but as we see in the graph (solid blue), by implementing the mask mandate, we are flattening the curve that would have grown linearly."
   ]
  },
  {
   "cell_type": "code",
   "execution_count": null,
   "id": "1062ec70",
   "metadata": {},
   "outputs": [],
   "source": []
  }
 ],
 "metadata": {
  "kernelspec": {
   "display_name": "Python 3 (ipykernel)",
   "language": "python",
   "name": "python3"
  },
  "language_info": {
   "codemirror_mode": {
    "name": "ipython",
    "version": 3
   },
   "file_extension": ".py",
   "mimetype": "text/x-python",
   "name": "python",
   "nbconvert_exporter": "python",
   "pygments_lexer": "ipython3",
   "version": "3.9.12"
  }
 },
 "nbformat": 4,
 "nbformat_minor": 5
}
